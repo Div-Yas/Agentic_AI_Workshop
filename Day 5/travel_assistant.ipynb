{
  "nbformat": 4,
  "nbformat_minor": 0,
  "metadata": {
    "colab": {
      "provenance": []
    },
    "kernelspec": {
      "name": "python3",
      "display_name": "Python 3"
    },
    "language_info": {
      "name": "python"
    }
  },
  "cells": [
    {
      "cell_type": "code",
      "execution_count": null,
      "metadata": {
        "colab": {
          "base_uri": "https://localhost:8080/",
          "height": 1000
        },
        "id": "d1ShdJAS9W1o",
        "outputId": "c4a7e461-07b5-4688-eb6a-7d14bfe2f300"
      },
      "outputs": [
        {
          "output_type": "stream",
          "name": "stdout",
          "text": [
            "Requirement already satisfied: langchain in /usr/local/lib/python3.11/dist-packages (0.3.25)\n",
            "Collecting langchain-community\n",
            "  Downloading langchain_community-0.3.25-py3-none-any.whl.metadata (2.9 kB)\n",
            "Collecting langchain-google-genai\n",
            "  Downloading langchain_google_genai-2.1.5-py3-none-any.whl.metadata (5.2 kB)\n",
            "Requirement already satisfied: requests in /usr/local/lib/python3.11/dist-packages (2.32.3)\n",
            "Collecting duckduckgo-search\n",
            "  Downloading duckduckgo_search-8.0.4-py3-none-any.whl.metadata (16 kB)\n",
            "Collecting python-dotenv\n",
            "  Downloading python_dotenv-1.1.0-py3-none-any.whl.metadata (24 kB)\n",
            "Requirement already satisfied: langchain-core<1.0.0,>=0.3.58 in /usr/local/lib/python3.11/dist-packages (from langchain) (0.3.63)\n",
            "Requirement already satisfied: langchain-text-splitters<1.0.0,>=0.3.8 in /usr/local/lib/python3.11/dist-packages (from langchain) (0.3.8)\n",
            "Requirement already satisfied: langsmith<0.4,>=0.1.17 in /usr/local/lib/python3.11/dist-packages (from langchain) (0.3.44)\n",
            "Requirement already satisfied: pydantic<3.0.0,>=2.7.4 in /usr/local/lib/python3.11/dist-packages (from langchain) (2.11.5)\n",
            "Requirement already satisfied: SQLAlchemy<3,>=1.4 in /usr/local/lib/python3.11/dist-packages (from langchain) (2.0.41)\n",
            "Requirement already satisfied: PyYAML>=5.3 in /usr/local/lib/python3.11/dist-packages (from langchain) (6.0.2)\n",
            "Collecting langchain-core<1.0.0,>=0.3.58 (from langchain)\n",
            "  Downloading langchain_core-0.3.65-py3-none-any.whl.metadata (5.8 kB)\n",
            "Requirement already satisfied: aiohttp<4.0.0,>=3.8.3 in /usr/local/lib/python3.11/dist-packages (from langchain-community) (3.11.15)\n",
            "Requirement already satisfied: tenacity!=8.4.0,<10,>=8.1.0 in /usr/local/lib/python3.11/dist-packages (from langchain-community) (9.1.2)\n",
            "Collecting dataclasses-json<0.7,>=0.5.7 (from langchain-community)\n",
            "  Downloading dataclasses_json-0.6.7-py3-none-any.whl.metadata (25 kB)\n",
            "Collecting pydantic-settings<3.0.0,>=2.4.0 (from langchain-community)\n",
            "  Downloading pydantic_settings-2.9.1-py3-none-any.whl.metadata (3.8 kB)\n",
            "Collecting httpx-sse<1.0.0,>=0.4.0 (from langchain-community)\n",
            "  Downloading httpx_sse-0.4.0-py3-none-any.whl.metadata (9.0 kB)\n",
            "Requirement already satisfied: numpy>=1.26.2 in /usr/local/lib/python3.11/dist-packages (from langchain-community) (2.0.2)\n",
            "Collecting filetype<2.0.0,>=1.2.0 (from langchain-google-genai)\n",
            "  Downloading filetype-1.2.0-py2.py3-none-any.whl.metadata (6.5 kB)\n",
            "Collecting google-ai-generativelanguage<0.7.0,>=0.6.18 (from langchain-google-genai)\n",
            "  Downloading google_ai_generativelanguage-0.6.18-py3-none-any.whl.metadata (9.8 kB)\n",
            "Requirement already satisfied: charset-normalizer<4,>=2 in /usr/local/lib/python3.11/dist-packages (from requests) (3.4.2)\n",
            "Requirement already satisfied: idna<4,>=2.5 in /usr/local/lib/python3.11/dist-packages (from requests) (3.10)\n",
            "Requirement already satisfied: urllib3<3,>=1.21.1 in /usr/local/lib/python3.11/dist-packages (from requests) (2.4.0)\n",
            "Requirement already satisfied: certifi>=2017.4.17 in /usr/local/lib/python3.11/dist-packages (from requests) (2025.4.26)\n",
            "Requirement already satisfied: click>=8.1.8 in /usr/local/lib/python3.11/dist-packages (from duckduckgo-search) (8.2.1)\n",
            "Collecting primp>=0.15.0 (from duckduckgo-search)\n",
            "  Downloading primp-0.15.0-cp38-abi3-manylinux_2_17_x86_64.manylinux2014_x86_64.whl.metadata (13 kB)\n",
            "Requirement already satisfied: lxml>=5.3.0 in /usr/local/lib/python3.11/dist-packages (from duckduckgo-search) (5.4.0)\n",
            "Requirement already satisfied: aiohappyeyeballs>=2.3.0 in /usr/local/lib/python3.11/dist-packages (from aiohttp<4.0.0,>=3.8.3->langchain-community) (2.6.1)\n",
            "Requirement already satisfied: aiosignal>=1.1.2 in /usr/local/lib/python3.11/dist-packages (from aiohttp<4.0.0,>=3.8.3->langchain-community) (1.3.2)\n",
            "Requirement already satisfied: attrs>=17.3.0 in /usr/local/lib/python3.11/dist-packages (from aiohttp<4.0.0,>=3.8.3->langchain-community) (25.3.0)\n",
            "Requirement already satisfied: frozenlist>=1.1.1 in /usr/local/lib/python3.11/dist-packages (from aiohttp<4.0.0,>=3.8.3->langchain-community) (1.6.0)\n",
            "Requirement already satisfied: multidict<7.0,>=4.5 in /usr/local/lib/python3.11/dist-packages (from aiohttp<4.0.0,>=3.8.3->langchain-community) (6.4.4)\n",
            "Requirement already satisfied: propcache>=0.2.0 in /usr/local/lib/python3.11/dist-packages (from aiohttp<4.0.0,>=3.8.3->langchain-community) (0.3.1)\n",
            "Requirement already satisfied: yarl<2.0,>=1.17.0 in /usr/local/lib/python3.11/dist-packages (from aiohttp<4.0.0,>=3.8.3->langchain-community) (1.20.0)\n",
            "Collecting marshmallow<4.0.0,>=3.18.0 (from dataclasses-json<0.7,>=0.5.7->langchain-community)\n",
            "  Downloading marshmallow-3.26.1-py3-none-any.whl.metadata (7.3 kB)\n",
            "Collecting typing-inspect<1,>=0.4.0 (from dataclasses-json<0.7,>=0.5.7->langchain-community)\n",
            "  Downloading typing_inspect-0.9.0-py3-none-any.whl.metadata (1.5 kB)\n",
            "Requirement already satisfied: google-api-core!=2.0.*,!=2.1.*,!=2.10.*,!=2.2.*,!=2.3.*,!=2.4.*,!=2.5.*,!=2.6.*,!=2.7.*,!=2.8.*,!=2.9.*,<3.0.0,>=1.34.1 in /usr/local/lib/python3.11/dist-packages (from google-api-core[grpc]!=2.0.*,!=2.1.*,!=2.10.*,!=2.2.*,!=2.3.*,!=2.4.*,!=2.5.*,!=2.6.*,!=2.7.*,!=2.8.*,!=2.9.*,<3.0.0,>=1.34.1->google-ai-generativelanguage<0.7.0,>=0.6.18->langchain-google-genai) (2.25.0)\n",
            "Requirement already satisfied: google-auth!=2.24.0,!=2.25.0,<3.0.0,>=2.14.1 in /usr/local/lib/python3.11/dist-packages (from google-ai-generativelanguage<0.7.0,>=0.6.18->langchain-google-genai) (2.38.0)\n",
            "Requirement already satisfied: proto-plus<2.0.0,>=1.22.3 in /usr/local/lib/python3.11/dist-packages (from google-ai-generativelanguage<0.7.0,>=0.6.18->langchain-google-genai) (1.26.1)\n",
            "Requirement already satisfied: protobuf!=4.21.0,!=4.21.1,!=4.21.2,!=4.21.3,!=4.21.4,!=4.21.5,<7.0.0,>=3.20.2 in /usr/local/lib/python3.11/dist-packages (from google-ai-generativelanguage<0.7.0,>=0.6.18->langchain-google-genai) (5.29.5)\n",
            "Collecting langsmith<0.4,>=0.1.17 (from langchain)\n",
            "  Downloading langsmith-0.3.45-py3-none-any.whl.metadata (15 kB)\n",
            "Requirement already satisfied: jsonpatch<2.0,>=1.33 in /usr/local/lib/python3.11/dist-packages (from langchain-core<1.0.0,>=0.3.58->langchain) (1.33)\n",
            "Requirement already satisfied: packaging<25,>=23.2 in /usr/local/lib/python3.11/dist-packages (from langchain-core<1.0.0,>=0.3.58->langchain) (24.2)\n",
            "Requirement already satisfied: typing-extensions>=4.7 in /usr/local/lib/python3.11/dist-packages (from langchain-core<1.0.0,>=0.3.58->langchain) (4.14.0)\n",
            "Requirement already satisfied: httpx<1,>=0.23.0 in /usr/local/lib/python3.11/dist-packages (from langsmith<0.4,>=0.1.17->langchain) (0.28.1)\n",
            "Requirement already satisfied: orjson<4.0.0,>=3.9.14 in /usr/local/lib/python3.11/dist-packages (from langsmith<0.4,>=0.1.17->langchain) (3.10.18)\n",
            "Requirement already satisfied: requests-toolbelt<2.0.0,>=1.0.0 in /usr/local/lib/python3.11/dist-packages (from langsmith<0.4,>=0.1.17->langchain) (1.0.0)\n",
            "Requirement already satisfied: zstandard<0.24.0,>=0.23.0 in /usr/local/lib/python3.11/dist-packages (from langsmith<0.4,>=0.1.17->langchain) (0.23.0)\n",
            "Requirement already satisfied: annotated-types>=0.6.0 in /usr/local/lib/python3.11/dist-packages (from pydantic<3.0.0,>=2.7.4->langchain) (0.7.0)\n",
            "Requirement already satisfied: pydantic-core==2.33.2 in /usr/local/lib/python3.11/dist-packages (from pydantic<3.0.0,>=2.7.4->langchain) (2.33.2)\n",
            "Requirement already satisfied: typing-inspection>=0.4.0 in /usr/local/lib/python3.11/dist-packages (from pydantic<3.0.0,>=2.7.4->langchain) (0.4.1)\n",
            "Requirement already satisfied: greenlet>=1 in /usr/local/lib/python3.11/dist-packages (from SQLAlchemy<3,>=1.4->langchain) (3.2.2)\n",
            "Requirement already satisfied: googleapis-common-protos<2.0.0,>=1.56.2 in /usr/local/lib/python3.11/dist-packages (from google-api-core!=2.0.*,!=2.1.*,!=2.10.*,!=2.2.*,!=2.3.*,!=2.4.*,!=2.5.*,!=2.6.*,!=2.7.*,!=2.8.*,!=2.9.*,<3.0.0,>=1.34.1->google-api-core[grpc]!=2.0.*,!=2.1.*,!=2.10.*,!=2.2.*,!=2.3.*,!=2.4.*,!=2.5.*,!=2.6.*,!=2.7.*,!=2.8.*,!=2.9.*,<3.0.0,>=1.34.1->google-ai-generativelanguage<0.7.0,>=0.6.18->langchain-google-genai) (1.70.0)\n",
            "Requirement already satisfied: grpcio<2.0.0,>=1.33.2 in /usr/local/lib/python3.11/dist-packages (from google-api-core[grpc]!=2.0.*,!=2.1.*,!=2.10.*,!=2.2.*,!=2.3.*,!=2.4.*,!=2.5.*,!=2.6.*,!=2.7.*,!=2.8.*,!=2.9.*,<3.0.0,>=1.34.1->google-ai-generativelanguage<0.7.0,>=0.6.18->langchain-google-genai) (1.72.1)\n",
            "Requirement already satisfied: grpcio-status<2.0.0,>=1.33.2 in /usr/local/lib/python3.11/dist-packages (from google-api-core[grpc]!=2.0.*,!=2.1.*,!=2.10.*,!=2.2.*,!=2.3.*,!=2.4.*,!=2.5.*,!=2.6.*,!=2.7.*,!=2.8.*,!=2.9.*,<3.0.0,>=1.34.1->google-ai-generativelanguage<0.7.0,>=0.6.18->langchain-google-genai) (1.71.0)\n",
            "Requirement already satisfied: cachetools<6.0,>=2.0.0 in /usr/local/lib/python3.11/dist-packages (from google-auth!=2.24.0,!=2.25.0,<3.0.0,>=2.14.1->google-ai-generativelanguage<0.7.0,>=0.6.18->langchain-google-genai) (5.5.2)\n",
            "Requirement already satisfied: pyasn1-modules>=0.2.1 in /usr/local/lib/python3.11/dist-packages (from google-auth!=2.24.0,!=2.25.0,<3.0.0,>=2.14.1->google-ai-generativelanguage<0.7.0,>=0.6.18->langchain-google-genai) (0.4.2)\n",
            "Requirement already satisfied: rsa<5,>=3.1.4 in /usr/local/lib/python3.11/dist-packages (from google-auth!=2.24.0,!=2.25.0,<3.0.0,>=2.14.1->google-ai-generativelanguage<0.7.0,>=0.6.18->langchain-google-genai) (4.9.1)\n",
            "Requirement already satisfied: anyio in /usr/local/lib/python3.11/dist-packages (from httpx<1,>=0.23.0->langsmith<0.4,>=0.1.17->langchain) (4.9.0)\n",
            "Requirement already satisfied: httpcore==1.* in /usr/local/lib/python3.11/dist-packages (from httpx<1,>=0.23.0->langsmith<0.4,>=0.1.17->langchain) (1.0.9)\n",
            "Requirement already satisfied: h11>=0.16 in /usr/local/lib/python3.11/dist-packages (from httpcore==1.*->httpx<1,>=0.23.0->langsmith<0.4,>=0.1.17->langchain) (0.16.0)\n",
            "Requirement already satisfied: jsonpointer>=1.9 in /usr/local/lib/python3.11/dist-packages (from jsonpatch<2.0,>=1.33->langchain-core<1.0.0,>=0.3.58->langchain) (3.0.0)\n",
            "Collecting mypy-extensions>=0.3.0 (from typing-inspect<1,>=0.4.0->dataclasses-json<0.7,>=0.5.7->langchain-community)\n",
            "  Downloading mypy_extensions-1.1.0-py3-none-any.whl.metadata (1.1 kB)\n",
            "Requirement already satisfied: pyasn1<0.7.0,>=0.6.1 in /usr/local/lib/python3.11/dist-packages (from pyasn1-modules>=0.2.1->google-auth!=2.24.0,!=2.25.0,<3.0.0,>=2.14.1->google-ai-generativelanguage<0.7.0,>=0.6.18->langchain-google-genai) (0.6.1)\n",
            "Requirement already satisfied: sniffio>=1.1 in /usr/local/lib/python3.11/dist-packages (from anyio->httpx<1,>=0.23.0->langsmith<0.4,>=0.1.17->langchain) (1.3.1)\n",
            "Downloading langchain_community-0.3.25-py3-none-any.whl (2.5 MB)\n",
            "\u001b[2K   \u001b[90m━━━━━━━━━━━━━━━━━━━━━━━━━━━━━━━━━━━━━━━━\u001b[0m \u001b[32m2.5/2.5 MB\u001b[0m \u001b[31m27.4 MB/s\u001b[0m eta \u001b[36m0:00:00\u001b[0m\n",
            "\u001b[?25hDownloading langchain_google_genai-2.1.5-py3-none-any.whl (44 kB)\n",
            "\u001b[2K   \u001b[90m━━━━━━━━━━━━━━━━━━━━━━━━━━━━━━━━━━━━━━━━\u001b[0m \u001b[32m44.8/44.8 kB\u001b[0m \u001b[31m3.0 MB/s\u001b[0m eta \u001b[36m0:00:00\u001b[0m\n",
            "\u001b[?25hDownloading duckduckgo_search-8.0.4-py3-none-any.whl (18 kB)\n",
            "Downloading python_dotenv-1.1.0-py3-none-any.whl (20 kB)\n",
            "Downloading dataclasses_json-0.6.7-py3-none-any.whl (28 kB)\n",
            "Downloading filetype-1.2.0-py2.py3-none-any.whl (19 kB)\n",
            "Downloading google_ai_generativelanguage-0.6.18-py3-none-any.whl (1.4 MB)\n",
            "\u001b[2K   \u001b[90m━━━━━━━━━━━━━━━━━━━━━━━━━━━━━━━━━━━━━━━━\u001b[0m \u001b[32m1.4/1.4 MB\u001b[0m \u001b[31m28.4 MB/s\u001b[0m eta \u001b[36m0:00:00\u001b[0m\n",
            "\u001b[?25hDownloading httpx_sse-0.4.0-py3-none-any.whl (7.8 kB)\n",
            "Downloading langchain_core-0.3.65-py3-none-any.whl (438 kB)\n",
            "\u001b[2K   \u001b[90m━━━━━━━━━━━━━━━━━━━━━━━━━━━━━━━━━━━━━━━━\u001b[0m \u001b[32m438.1/438.1 kB\u001b[0m \u001b[31m15.4 MB/s\u001b[0m eta \u001b[36m0:00:00\u001b[0m\n",
            "\u001b[?25hDownloading langsmith-0.3.45-py3-none-any.whl (363 kB)\n",
            "\u001b[2K   \u001b[90m━━━━━━━━━━━━━━━━━━━━━━━━━━━━━━━━━━━━━━━━\u001b[0m \u001b[32m363.0/363.0 kB\u001b[0m \u001b[31m16.1 MB/s\u001b[0m eta \u001b[36m0:00:00\u001b[0m\n",
            "\u001b[?25hDownloading primp-0.15.0-cp38-abi3-manylinux_2_17_x86_64.manylinux2014_x86_64.whl (3.3 MB)\n",
            "\u001b[2K   \u001b[90m━━━━━━━━━━━━━━━━━━━━━━━━━━━━━━━━━━━━━━━━\u001b[0m \u001b[32m3.3/3.3 MB\u001b[0m \u001b[31m55.9 MB/s\u001b[0m eta \u001b[36m0:00:00\u001b[0m\n",
            "\u001b[?25hDownloading pydantic_settings-2.9.1-py3-none-any.whl (44 kB)\n",
            "\u001b[2K   \u001b[90m━━━━━━━━━━━━━━━━━━━━━━━━━━━━━━━━━━━━━━━━\u001b[0m \u001b[32m44.4/44.4 kB\u001b[0m \u001b[31m2.6 MB/s\u001b[0m eta \u001b[36m0:00:00\u001b[0m\n",
            "\u001b[?25hDownloading marshmallow-3.26.1-py3-none-any.whl (50 kB)\n",
            "\u001b[2K   \u001b[90m━━━━━━━━━━━━━━━━━━━━━━━━━━━━━━━━━━━━━━━━\u001b[0m \u001b[32m50.9/50.9 kB\u001b[0m \u001b[31m3.4 MB/s\u001b[0m eta \u001b[36m0:00:00\u001b[0m\n",
            "\u001b[?25hDownloading typing_inspect-0.9.0-py3-none-any.whl (8.8 kB)\n",
            "Downloading mypy_extensions-1.1.0-py3-none-any.whl (5.0 kB)\n",
            "Installing collected packages: filetype, python-dotenv, primp, mypy-extensions, marshmallow, httpx-sse, typing-inspect, duckduckgo-search, pydantic-settings, langsmith, dataclasses-json, langchain-core, google-ai-generativelanguage, langchain-google-genai, langchain-community\n",
            "  Attempting uninstall: langsmith\n",
            "    Found existing installation: langsmith 0.3.44\n",
            "    Uninstalling langsmith-0.3.44:\n",
            "      Successfully uninstalled langsmith-0.3.44\n",
            "  Attempting uninstall: langchain-core\n",
            "    Found existing installation: langchain-core 0.3.63\n",
            "    Uninstalling langchain-core-0.3.63:\n",
            "      Successfully uninstalled langchain-core-0.3.63\n",
            "  Attempting uninstall: google-ai-generativelanguage\n",
            "    Found existing installation: google-ai-generativelanguage 0.6.15\n",
            "    Uninstalling google-ai-generativelanguage-0.6.15:\n",
            "      Successfully uninstalled google-ai-generativelanguage-0.6.15\n",
            "\u001b[31mERROR: pip's dependency resolver does not currently take into account all the packages that are installed. This behaviour is the source of the following dependency conflicts.\n",
            "google-generativeai 0.8.5 requires google-ai-generativelanguage==0.6.15, but you have google-ai-generativelanguage 0.6.18 which is incompatible.\u001b[0m\u001b[31m\n",
            "\u001b[0mSuccessfully installed dataclasses-json-0.6.7 duckduckgo-search-8.0.4 filetype-1.2.0 google-ai-generativelanguage-0.6.18 httpx-sse-0.4.0 langchain-community-0.3.25 langchain-core-0.3.65 langchain-google-genai-2.1.5 langsmith-0.3.45 marshmallow-3.26.1 mypy-extensions-1.1.0 primp-0.15.0 pydantic-settings-2.9.1 python-dotenv-1.1.0 typing-inspect-0.9.0\n"
          ]
        },
        {
          "output_type": "display_data",
          "data": {
            "application/vnd.colab-display-data+json": {
              "pip_warning": {
                "packages": [
                  "google"
                ]
              },
              "id": "2c018ad69d3644a0b67ded02121c3f06"
            }
          },
          "metadata": {}
        }
      ],
      "source": [
        "!pip install langchain langchain-community langchain-google-genai requests duckduckgo-search python-dotenv\n"
      ]
    },
    {
      "cell_type": "code",
      "source": [
        "import os\n",
        "import requests\n",
        "from typing import Optional, Type\n",
        "from langchain.tools import BaseTool, tool\n",
        "from langchain.agents import create_tool_calling_agent, AgentExecutor\n",
        "from langchain.prompts import ChatPromptTemplate\n",
        "from langchain_community.tools import DuckDuckGoSearchRun\n",
        "from langchain_google_genai import ChatGoogleGenerativeAI  # For Gemini\n",
        "from dotenv import load_dotenv\n",
        "import json\n",
        "from google.colab import userdata"
      ],
      "metadata": {
        "id": "DuAVX2i3981z"
      },
      "execution_count": 4,
      "outputs": []
    },
    {
      "cell_type": "code",
      "source": [
        "# Import userdata for Colab secrets\n",
        "from google.colab import userdata\n",
        "\n",
        "# Get API keys from Colab secrets\n",
        "GOOGLE_API_KEY = userdata.get('GOOGLE_API_KEY')\n",
        "WEATHER_API_KEY = userdata.get('WEATHER_API_KEY')  # Your WeatherAPI key\n",
        "\n",
        "# Verify Google API key is available\n",
        "if GOOGLE_API_KEY:\n",
        "    print(\"✅ Google API key found in Colab secrets!\")\n",
        "else:\n",
        "    print(\"❌ Google API key not found. Please set GOOGLE_API_KEY in Colab secrets.\")\n",
        "    print(\"Go to Colab secrets tab (🔑) and add your Google API key.\")\n",
        "\n",
        "# Verify Weather API key\n",
        "if WEATHER_API_KEY:\n",
        "    print(\"✅ Weather API key configured!\")\n",
        "else:\n",
        "    print(\"❌ Weather API key not found.\")\n",
        "\n",
        "print(\"✅ API keys configured successfully!\")\n",
        "print(f\"Google API Key available: {'Yes' if GOOGLE_API_KEY else 'No'}\")\n",
        "print(f\"Weather API Key available: {'Yes' if WEATHER_API_KEY else 'No'}\")"
      ],
      "metadata": {
        "colab": {
          "base_uri": "https://localhost:8080/"
        },
        "id": "-iclqWIP-Phv",
        "outputId": "68da6a3d-125b-48b5-ccc4-da154179c466"
      },
      "execution_count": 5,
      "outputs": [
        {
          "output_type": "stream",
          "name": "stdout",
          "text": [
            "✅ Google API key found in Colab secrets!\n",
            "✅ Weather API key configured!\n",
            "✅ API keys configured successfully!\n",
            "Google API Key available: Yes\n",
            "Weather API Key available: Yes\n"
          ]
        }
      ]
    },
    {
      "cell_type": "code",
      "source": [
        "# Initialize Google Gemini 1.5 Flash (Free version)\n",
        "llm = ChatGoogleGenerativeAI(\n",
        "    model=\"gemini-1.5-flash\",  # Free model with generous limits\n",
        "    temperature=0.1,           # Low temperature for consistent responses\n",
        "    google_api_key=GOOGLE_API_KEY,\n",
        "    convert_system_message_to_human=True  # Important for Gemini compatibility\n",
        ")\n",
        "\n",
        "print(\"✅ Google Gemini 1.5 Flash (Free) initialized successfully!\")\n",
        "print(f\"Using model: Gemini 1.5 Flash\")\n",
        "\n",
        "# Test the LLM connection\n",
        "try:\n",
        "    test_response = llm.invoke(\"Hello, are you working?\")\n",
        "    print(f\"✅ LLM test successful: {test_response.content[:50]}...\")\n",
        "except Exception as e:\n",
        "    print(f\"❌ LLM test failed: {str(e)}\")\n",
        "    print(\"💡 Tip: Make sure your Google API key is valid and has Gemini API access enabled\")"
      ],
      "metadata": {
        "colab": {
          "base_uri": "https://localhost:8080/"
        },
        "id": "00xrKUkRALuS",
        "outputId": "ac75110a-4f68-4742-fc7a-16e2824e4f0d"
      },
      "execution_count": 6,
      "outputs": [
        {
          "output_type": "stream",
          "name": "stdout",
          "text": [
            "✅ Google Gemini 1.5 Flash (Free) initialized successfully!\n",
            "Using model: Gemini 1.5 Flash\n"
          ]
        },
        {
          "output_type": "stream",
          "name": "stderr",
          "text": [
            "/usr/local/lib/python3.11/dist-packages/langchain_google_genai/chat_models.py:424: UserWarning: Convert_system_message_to_human will be deprecated!\n",
            "  warnings.warn(\"Convert_system_message_to_human will be deprecated!\")\n"
          ]
        },
        {
          "output_type": "stream",
          "name": "stdout",
          "text": [
            "✅ LLM test successful: Yes, I am working.  I'm ready to assist you with y...\n"
          ]
        }
      ]
    },
    {
      "cell_type": "code",
      "source": [
        "@tool\n",
        "def get_weather_forecast(city: str) -> str:\n",
        "    \"\"\"\n",
        "    Fetch current weather and forecast for a given city using WeatherAPI.\n",
        "\n",
        "    Args:\n",
        "        city (str): The name of the city to get weather for\n",
        "\n",
        "    Returns:\n",
        "        str: Weather information including current conditions and forecast\n",
        "    \"\"\"\n",
        "    try:\n",
        "        # WeatherAPI endpoint for current weather and forecast\n",
        "        url = f\"http://api.weatherapi.com/v1/forecast.json\"\n",
        "        params = {\n",
        "            'key': WEATHER_API_KEY,\n",
        "            'q': city,\n",
        "            'days': 3,  # 3-day forecast\n",
        "            'aqi': 'no',  # Air quality index not needed\n",
        "            'alerts': 'no'  # Weather alerts not needed\n",
        "        }\n",
        "\n",
        "        response = requests.get(url, params=params)\n",
        "        response.raise_for_status()  # Raise an exception for bad status codes\n",
        "\n",
        "        data = response.json()\n",
        "\n",
        "        # Extract relevant weather information\n",
        "        current = data['current']\n",
        "        location = data['location']\n",
        "        forecast = data['forecast']['forecastday']\n",
        "\n",
        "        # Format the weather information\n",
        "        weather_info = f\"\"\"\n",
        "🌍 Weather for {location['name']}, {location['country']}:\n",
        "\n",
        "📍 Current Conditions:\n",
        "- Temperature: {current['temp_c']}°C ({current['temp_f']}°F)\n",
        "- Condition: {current['condition']['text']}\n",
        "- Feels like: {current['feelslike_c']}°C ({current['feelslike_f']}°F)\n",
        "- Humidity: {current['humidity']}%\n",
        "- Wind: {current['wind_kph']} km/h {current['wind_dir']}\n",
        "\n",
        "📅 3-Day Forecast:\n",
        "\"\"\"\n",
        "\n",
        "        for day in forecast:\n",
        "            date = day['date']\n",
        "            day_info = day['day']\n",
        "            weather_info += f\"\"\"\n",
        "- {date}: {day_info['condition']['text']}\n",
        "  High: {day_info['maxtemp_c']}°C, Low: {day_info['mintemp_c']}°C\n",
        "  Rain chance: {day_info['daily_chance_of_rain']}%\n",
        "\"\"\"\n",
        "\n",
        "        return weather_info\n",
        "\n",
        "    except requests.exceptions.RequestException as e:\n",
        "        return f\"❌ Error fetching weather data: {str(e)}\"\n",
        "    except KeyError as e:\n",
        "        return f\"❌ Error parsing weather data: Missing key {str(e)}\"\n",
        "    except Exception as e:\n",
        "        return f\"❌ Unexpected error: {str(e)}\"\n",
        "\n",
        "# Test the weather tool\n",
        "print(\"✅ Weather tool created successfully!\")\n",
        "print(\"Testing weather tool...\")\n",
        "test_weather = get_weather_forecast(\"London\")\n",
        "print(test_weather[:200] + \"...\" if len(test_weather) > 200 else test_weather)"
      ],
      "metadata": {
        "colab": {
          "base_uri": "https://localhost:8080/"
        },
        "id": "MDD6mY6LBEMe",
        "outputId": "701a7382-d4b8-4745-d95a-e6be8be31f91"
      },
      "execution_count": 7,
      "outputs": [
        {
          "output_type": "stream",
          "name": "stdout",
          "text": [
            "✅ Weather tool created successfully!\n",
            "Testing weather tool...\n"
          ]
        },
        {
          "output_type": "stream",
          "name": "stderr",
          "text": [
            "<ipython-input-7-4199060511>:68: LangChainDeprecationWarning: The method `BaseTool.__call__` was deprecated in langchain-core 0.1.47 and will be removed in 1.0. Use :meth:`~invoke` instead.\n",
            "  test_weather = get_weather_forecast(\"London\")\n"
          ]
        },
        {
          "output_type": "stream",
          "name": "stdout",
          "text": [
            "\n",
            "🌍 Weather for London, United Kingdom:\n",
            "\n",
            "📍 Current Conditions:\n",
            "- Temperature: 18.1°C (64.6°F)\n",
            "- Condition: Partly Cloudy\n",
            "- Feels like: 18.1°C (64.6°F)\n",
            "- Humidity: 83%\n",
            "- Wind: 13.0 km/h SSW\n",
            "\n",
            "📅 3-Day For...\n"
          ]
        }
      ]
    },
    {
      "cell_type": "code",
      "source": [
        "# Initialize DuckDuckGo search tool (completely free, no API key required)\n",
        "search_tool = DuckDuckGoSearchRun()\n",
        "\n",
        "@tool\n",
        "def get_tourist_attractions(city: str) -> str:\n",
        "    \"\"\"\n",
        "    Search for top tourist attractions and interesting places to visit in a given city.\n",
        "\n",
        "    Args:\n",
        "        city (str): The name of the city to search attractions for\n",
        "\n",
        "    Returns:\n",
        "        str: Information about top tourist attractions in the city\n",
        "    \"\"\"\n",
        "    try:\n",
        "        # Create a focused search query for tourist attractions\n",
        "        search_query = f\"top tourist attractions {city} places to visit travel guide\"\n",
        "\n",
        "        # Perform the search\n",
        "        search_results = search_tool.run(search_query)\n",
        "\n",
        "        # Format the results for better readability\n",
        "        formatted_results = f\"\"\"\n",
        "🏛️ Top Tourist Attractions in {city}:\n",
        "\n",
        "{search_results}\n",
        "\n",
        "💡 Tips for visiting {city}:\n",
        "- Check opening hours and ticket prices in advance\n",
        "- Consider purchasing city passes for multiple attractions\n",
        "- Use public transportation or walking when possible\n",
        "- Try local cuisine and visit local markets\n",
        "\"\"\"\n",
        "\n",
        "        return formatted_results\n",
        "\n",
        "    except Exception as e:\n",
        "        return f\"❌ Error searching for attractions: {str(e)}\"\n",
        "\n",
        "# Test the attractions tool\n",
        "print(\"✅ Tourist attractions tool created successfully!\")\n",
        "print(\"Testing attractions tool...\")\n",
        "test_attractions = get_tourist_attractions(\"Paris\")\n",
        "print(test_attractions[:300] + \"...\" if len(test_attractions) > 300 else test_attractions)"
      ],
      "metadata": {
        "colab": {
          "base_uri": "https://localhost:8080/"
        },
        "id": "sdmjtSZZBkqH",
        "outputId": "b3484ba2-8546-4106-f093-e94a74812a00"
      },
      "execution_count": 8,
      "outputs": [
        {
          "output_type": "stream",
          "name": "stdout",
          "text": [
            "✅ Tourist attractions tool created successfully!\n",
            "Testing attractions tool...\n",
            "\n",
            "🏛️ Top Tourist Attractions in Paris:\n",
            "\n",
            "Guide to the best hotels and things to do in Paris. Maps, travel tips and more. These are the best things to do in Paris, according to our local experts. Read our complete Paris travel guide here , which includes: The 52 Best Hotels in Paris This list of the be...\n"
          ]
        }
      ]
    },
    {
      "cell_type": "code",
      "source": [
        "# Create a list of tools available to the agent\n",
        "tools = [get_weather_forecast, get_tourist_attractions]\n",
        "\n",
        "# Create a prompt template for the travel assistant\n",
        "prompt = ChatPromptTemplate.from_messages([\n",
        "    (\"system\", \"\"\"You are an intelligent Travel Assistant AI. Your role is to help users plan their trips by providing:\n",
        "\n",
        "1. 🌤️ **Weather Information**: Current conditions and forecast for their destination\n",
        "2. 🏛️ **Tourist Attractions**: Top places to visit and local recommendations\n",
        "\n",
        "**Instructions:**\n",
        "- Always be helpful, informative, and enthusiastic about travel\n",
        "- Use the weather tool to get current weather and forecast\n",
        "- Use the attractions tool to find interesting places to visit\n",
        "- Provide practical travel advice when relevant\n",
        "- Format your responses clearly with emojis and sections\n",
        "- If a user asks about multiple cities, handle each one separately\n",
        "- Always be encouraging and positive about travel experiences\n",
        "\n",
        "**Available Tools:**\n",
        "- get_weather_forecast: Get weather information for any city\n",
        "- get_tourist_attractions: Find top tourist attractions in any city\"\"\"),\n",
        "\n",
        "    (\"user\", \"{input}\"),\n",
        "    (\"placeholder\", \"{agent_scratchpad}\"),\n",
        "])\n",
        "\n",
        "# Create the tool-calling agent\n",
        "agent = create_tool_calling_agent(llm, tools, prompt)\n",
        "\n",
        "# Create an agent executor\n",
        "agent_executor = AgentExecutor(\n",
        "    agent=agent,\n",
        "    tools=tools,\n",
        "    verbose=True,  # Set to False to reduce output\n",
        "    handle_parsing_errors=True,\n",
        "    max_iterations=5  # Limit iterations to prevent infinite loops\n",
        ")\n",
        "\n",
        "print(\"✅ Travel Assistant Agent created successfully!\")\n",
        "print(\"🤖 Agent is ready to help with travel planning!\")"
      ],
      "metadata": {
        "colab": {
          "base_uri": "https://localhost:8080/"
        },
        "id": "vhKQwRwMBoJg",
        "outputId": "452a81db-817d-44a0-c532-c59e6a02442a"
      },
      "execution_count": 9,
      "outputs": [
        {
          "output_type": "stream",
          "name": "stdout",
          "text": [
            "✅ Travel Assistant Agent created successfully!\n",
            "🤖 Agent is ready to help with travel planning!\n"
          ]
        }
      ]
    },
    {
      "cell_type": "code",
      "source": [
        "def interactive_travel_assistant():\n",
        "    \"\"\"\n",
        "    Interactive interface for the travel assistant\n",
        "    \"\"\"\n",
        "    print(\"🌍 Welcome to your Intelligent Travel Assistant! 🌍\")\n",
        "    print(\"I can help you with weather information and tourist attractions for any destination.\")\n",
        "    print(\"Type 'quit' or 'exit' to end the conversation.\\n\")\n",
        "\n",
        "    while True:\n",
        "        try:\n",
        "            # Get user input\n",
        "            user_input = input(\"🏖️ Enter a destination you'd like to explore (or 'quit' to exit): \").strip()\n",
        "\n",
        "            # Check if user wants to quit\n",
        "            if user_input.lower() in ['quit', 'exit', 'q']:\n",
        "                print(\"✈️ Happy travels! Thanks for using the Travel Assistant!\")\n",
        "                break\n",
        "\n",
        "            if not user_input:\n",
        "                print(\"Please enter a valid destination name.\")\n",
        "                continue\n",
        "\n",
        "            print(f\"\\n🔍 Gathering travel information for {user_input}...\")\n",
        "            print(\"=\" * 60)\n",
        "\n",
        "            # Get travel information\n",
        "            result = travel_assistant(user_input)\n",
        "            print(result)\n",
        "            print(\"\\n\" + \"=\" * 60 + \"\\n\")\n",
        "\n",
        "        except KeyboardInterrupt:\n",
        "            print(\"\\n✈️ Happy travels! Thanks for using the Travel Assistant!\")\n",
        "            break\n",
        "        except Exception as e:\n",
        "            print(f\"❌ An error occurred: {str(e)}\")\n",
        "            print(\"Please try again with a different destination.\\n\")\n",
        "\n",
        "# Run the interactive assistant\n",
        "interactive_travel_assistant()"
      ],
      "metadata": {
        "colab": {
          "base_uri": "https://localhost:8080/"
        },
        "id": "lBQILqQdB57R",
        "outputId": "4dc11a0f-e426-4999-c7c1-dc636ed89992"
      },
      "execution_count": 10,
      "outputs": [
        {
          "output_type": "stream",
          "name": "stdout",
          "text": [
            "🌍 Welcome to your Intelligent Travel Assistant! 🌍\n",
            "I can help you with weather information and tourist attractions for any destination.\n",
            "Type 'quit' or 'exit' to end the conversation.\n",
            "\n",
            "🏖️ Enter a destination you'd like to explore (or 'quit' to exit): planning to visit munnar\n",
            "\n",
            "🔍 Gathering travel information for planning to visit munnar...\n",
            "============================================================\n",
            "\n",
            "\n",
            "\u001b[1m> Entering new AgentExecutor chain...\u001b[0m\n"
          ]
        },
        {
          "output_type": "stream",
          "name": "stderr",
          "text": [
            "/usr/local/lib/python3.11/dist-packages/langchain_google_genai/chat_models.py:424: UserWarning: Convert_system_message_to_human will be deprecated!\n",
            "  warnings.warn(\"Convert_system_message_to_human will be deprecated!\")\n"
          ]
        },
        {
          "output_type": "stream",
          "name": "stdout",
          "text": [
            "\u001b[32;1m\u001b[1;3m\n",
            "Invoking: `get_weather_forecast` with `{'city': 'Munnar'}`\n",
            "responded: Planning a trip to Munnar is fantastic!  Let's get you all set with the information you need:\n",
            "\n",
            "✈️ **Munnar Trip Planner** ✈️\n",
            "\n",
            "First, let's check out the weather:\n",
            "\n",
            "🌤️ **Weather Information:**\n",
            "\n",
            "\n",
            "\n",
            "\u001b[0m\u001b[36;1m\u001b[1;3m\n",
            "🌍 Weather for Munnar, India:\n",
            "\n",
            "📍 Current Conditions:\n",
            "- Temperature: 24.2°C (75.5°F)\n",
            "- Condition: Light rain shower\n",
            "- Feels like: 26.2°C (79.1°F)\n",
            "- Humidity: 81%\n",
            "- Wind: 11.9 km/h WSW\n",
            "\n",
            "📅 3-Day Forecast:\n",
            "\n",
            "- 2025-06-13: Moderate rain\n",
            "  High: 24.8°C, Low: 18.7°C\n",
            "  Rain chance: 96%\n",
            "\n",
            "- 2025-06-14: Heavy rain\n",
            "  High: 22.0°C, Low: 18.3°C\n",
            "  Rain chance: 91%\n",
            "\n",
            "- 2025-06-15: Moderate rain\n",
            "  High: 20.5°C, Low: 18.0°C\n",
            "  Rain chance: 83%\n",
            "\u001b[0m"
          ]
        },
        {
          "output_type": "stream",
          "name": "stderr",
          "text": [
            "/usr/local/lib/python3.11/dist-packages/langchain_google_genai/chat_models.py:424: UserWarning: Convert_system_message_to_human will be deprecated!\n",
            "  warnings.warn(\"Convert_system_message_to_human will be deprecated!\")\n"
          ]
        },
        {
          "output_type": "stream",
          "name": "stdout",
          "text": [
            "\u001b[32;1m\u001b[1;3m\n",
            "Invoking: `get_tourist_attractions` with `{'city': 'Munnar'}`\n",
            "\n",
            "\n",
            "\u001b[0m\u001b[33;1m\u001b[1;3m\n",
            "🏛️ Top Tourist Attractions in Munnar:\n",
            "\n",
            "Here are the top 15 must-visit tourist attractions in Munnar, along with their locations and things to do. 1. Eravikulam National Park. Location: 13 km from Munnar Town Home to the endangered Nilgiri Tahr, Eravikulam National Park is a must-visit for wildlife enthusiasts. Here are the top 20 things to do in Munnar - your ultimate Munnar travel guide! Heads up: my trip to Kerala was a sponsored press trip with India Someday. But, all opinions and photos are my own. Click here for a review of their services, or see my full itinerary here! Discover top 10 best places to visit in Munnar, from tea gardens to waterfalls and national parks. ... 10 Best Places to Visit in Munnar: A Complete Guide to the Jewel of Kerala. ... Tips for Reaching Munnar. Best time to travel: The roads to Munnar are in good condition throughout the year, but the winter months (November to February) are ... In this Munnar travel guide, you get an insight into the best tourist attractions in Munnar that will attract your attention. These are the top places one needs to visit in the Himalayan hill stations, which include the excellent tea gardens and magical waterfalls. ... List of The Best Places to Visit in Munnar in 2025 1. Eravikulam National ... ALSO SEE - Kochi To Munnar- Sightseeing, Distance, Travel Time & Tips. Best places to visit in Munnar. There are several places you can visit in Munnar during your holiday. Here are our top recommendation from Munnar Travel Guide. Chokramudi Peak. At an altitude of 2,100 meters above sea level, the view from Chokramudi Peak is breathtaking ...\n",
            "\n",
            "💡 Tips for visiting Munnar:\n",
            "- Check opening hours and ticket prices in advance\n",
            "- Consider purchasing city passes for multiple attractions\n",
            "- Use public transportation or walking when possible\n",
            "- Try local cuisine and visit local markets\n",
            "\u001b[0m"
          ]
        },
        {
          "output_type": "stream",
          "name": "stderr",
          "text": [
            "/usr/local/lib/python3.11/dist-packages/langchain_google_genai/chat_models.py:424: UserWarning: Convert_system_message_to_human will be deprecated!\n",
            "  warnings.warn(\"Convert_system_message_to_human will be deprecated!\")\n"
          ]
        },
        {
          "output_type": "stream",
          "name": "stdout",
          "text": [
            "\u001b[32;1m\u001b[1;3mHi there!  I'm so excited to help you plan your trip to Munnar!  Get ready for an amazing experience! ✨\n",
            "\n",
            "Here's what I've put together for you:\n",
            "\n",
            "☀️ **Weather in Munnar:**\n",
            "\n",
            "The current weather in Munnar is showing light rain showers with a temperature of 24.2°C (75.5°F). It feels like 26.2°C (79.1°F) due to the humidity (81%).  The wind is blowing from the West-Southwest at 11.9 km/h.\n",
            "\n",
            "The 3-day forecast predicts moderate to heavy rain, so pack accordingly!  Don't forget your raincoat and umbrella! ☔\n",
            "\n",
            "🏛️ **Top Tourist Attractions in Munnar:**\n",
            "\n",
            "Based on my research, Munnar offers a plethora of amazing sights!  Unfortunately, the information I received about specific attractions was a bit fragmented.  However, I can tell you that Munnar is renowned for its stunning tea plantations, breathtaking waterfalls, and incredible national parks, including Eravikulam National Park, home to the endangered Nilgiri Tahr.  \n",
            "\n",
            "To get the most detailed and up-to-date information on specific attractions, opening times, and ticket prices, I highly recommend checking out dedicated travel websites and guidebooks before your trip.  This will allow you to plan your itinerary effectively and make the most of your time in Munnar.\n",
            "\n",
            "**Practical Travel Advice:**\n",
            "\n",
            "*   **Packing:** Pack light, comfortable clothing suitable for varying weather conditions, including rain gear.\n",
            "*   **Transportation:** Research transportation options within Munnar to get around efficiently.\n",
            "*   **Accommodation:** Book your accommodation in advance, especially if you're traveling during peak season.\n",
            "\n",
            "I hope this helps you plan your Munnar adventure!  Let me know if you have any other questions.  Have a fantastic trip! 🎉\n",
            "\u001b[0m\n",
            "\n",
            "\u001b[1m> Finished chain.\u001b[0m\n",
            "Hi there!  I'm so excited to help you plan your trip to Munnar!  Get ready for an amazing experience! ✨\n",
            "\n",
            "Here's what I've put together for you:\n",
            "\n",
            "☀️ **Weather in Munnar:**\n",
            "\n",
            "The current weather in Munnar is showing light rain showers with a temperature of 24.2°C (75.5°F). It feels like 26.2°C (79.1°F) due to the humidity (81%).  The wind is blowing from the West-Southwest at 11.9 km/h.\n",
            "\n",
            "The 3-day forecast predicts moderate to heavy rain, so pack accordingly!  Don't forget your raincoat and umbrella! ☔\n",
            "\n",
            "🏛️ **Top Tourist Attractions in Munnar:**\n",
            "\n",
            "Based on my research, Munnar offers a plethora of amazing sights!  Unfortunately, the information I received about specific attractions was a bit fragmented.  However, I can tell you that Munnar is renowned for its stunning tea plantations, breathtaking waterfalls, and incredible national parks, including Eravikulam National Park, home to the endangered Nilgiri Tahr.  \n",
            "\n",
            "To get the most detailed and up-to-date information on specific attractions, opening times, and ticket prices, I highly recommend checking out dedicated travel websites and guidebooks before your trip.  This will allow you to plan your itinerary effectively and make the most of your time in Munnar.\n",
            "\n",
            "**Practical Travel Advice:**\n",
            "\n",
            "*   **Packing:** Pack light, comfortable clothing suitable for varying weather conditions, including rain gear.\n",
            "*   **Transportation:** Research transportation options within Munnar to get around efficiently.\n",
            "*   **Accommodation:** Book your accommodation in advance, especially if you're traveling during peak season.\n",
            "\n",
            "I hope this helps you plan your Munnar adventure!  Let me know if you have any other questions.  Have a fantastic trip! 🎉\n",
            "\n",
            "\n",
            "============================================================\n",
            "\n",
            "🏖️ Enter a destination you'd like to explore (or 'quit' to exit): coimbatore\n",
            "\n",
            "🔍 Gathering travel information for coimbatore...\n",
            "============================================================\n",
            "\n",
            "\n",
            "\u001b[1m> Entering new AgentExecutor chain...\u001b[0m\n"
          ]
        },
        {
          "output_type": "stream",
          "name": "stderr",
          "text": [
            "/usr/local/lib/python3.11/dist-packages/langchain_google_genai/chat_models.py:424: UserWarning: Convert_system_message_to_human will be deprecated!\n",
            "  warnings.warn(\"Convert_system_message_to_human will be deprecated!\")\n"
          ]
        },
        {
          "output_type": "stream",
          "name": "stdout",
          "text": [
            "\u001b[32;1m\u001b[1;3m\n",
            "Invoking: `get_weather_forecast` with `{'city': 'coimbatore'}`\n",
            "responded: Planning a trip to Coimbatore is fantastic!  Let's get you all set with the information you need:\n",
            "\n",
            "✈️ **Coimbatore Trip Planner** ✈️\n",
            "\n",
            "First, let's check the weather:\n",
            "\n",
            "🌤️ **Weather in Coimbatore:**\n",
            "\n",
            "\n",
            "\n",
            "\u001b[0m\u001b[36;1m\u001b[1;3m\n",
            "🌍 Weather for Coimbatore, India:\n",
            "\n",
            "📍 Current Conditions:\n",
            "- Temperature: 28.1°C (82.6°F)\n",
            "- Condition: Partly cloudy\n",
            "- Feels like: 30.5°C (86.9°F)\n",
            "- Humidity: 74%\n",
            "- Wind: 25.6 km/h WSW\n",
            "\n",
            "📅 3-Day Forecast:\n",
            "\n",
            "- 2025-06-13: Patchy rain nearby\n",
            "  High: 28.2°C, Low: 23.4°C\n",
            "  Rain chance: 83%\n",
            "\n",
            "- 2025-06-14: Patchy rain nearby\n",
            "  High: 25.9°C, Low: 22.9°C\n",
            "  Rain chance: 89%\n",
            "\n",
            "- 2025-06-15: Patchy rain nearby\n",
            "  High: 26.3°C, Low: 22.6°C\n",
            "  Rain chance: 87%\n",
            "\u001b[0m"
          ]
        },
        {
          "output_type": "stream",
          "name": "stderr",
          "text": [
            "/usr/local/lib/python3.11/dist-packages/langchain_google_genai/chat_models.py:424: UserWarning: Convert_system_message_to_human will be deprecated!\n",
            "  warnings.warn(\"Convert_system_message_to_human will be deprecated!\")\n"
          ]
        },
        {
          "output_type": "stream",
          "name": "stdout",
          "text": [
            "\u001b[32;1m\u001b[1;3m\n",
            "Invoking: `get_tourist_attractions` with `{'city': 'coimbatore'}`\n",
            "\n",
            "\n",
            "\u001b[0m\u001b[33;1m\u001b[1;3m\n",
            "🏛️ Top Tourist Attractions in coimbatore:\n",
            "\n",
            "20. Race Course Walking Trail- Tourist Places in Coimbatore. A perfect place for fitness enthusiasts, this well-maintained walking trail is lined with trees and benches. Address: Race Course Road, Coimbatore; Timings: Open 24 hours; 21. Insect Museum, TNAU- Tourist Places in Coimbatore. A unique museum showcasing a vast collection of insect ... Here's your ultimate travel guide to the top 12 things to do in Coimbatore, each filled with ... and wildlife. The journey includes 40 hairpin bends offering spectacular views. You can visit attractions like Sholayar Dam and Balaji Temple or simply enjoy serene nature walks through lush plantations surrounded by mist and pristine mountain air ... For more adventure options, check out our guide on Discover the Best Places to Visit in Coimbatore! Cultural Treasures: Museums and Historical Landmarks. Coimbatore is rich in history and culture, and there's no better way to soak it all in than by visiting its museums and historical landmarks. 22 Best Places To Visit In Coimbatore In 2024 Monsoon is already here, and very soon winters will be knocking on our doors, marking the best time to visit the natural wonders of the country and appreciate the beauty that God has created for us, so while we have a chance to go anywhere across the country, why not check out some of the best places to visit in Coimbatore, to make the most of this ... Coimbatore is among the lesser known destinations in the heritage state of Tamil Nadu! This place has various landmarks and local attractions that reflects the region's rich martial background and vibrant culture. So, if you're planning a trip to this picturesque gem, here are the best places to visit in Coimbatore this year!\n",
            "\n",
            "💡 Tips for visiting coimbatore:\n",
            "- Check opening hours and ticket prices in advance\n",
            "- Consider purchasing city passes for multiple attractions\n",
            "- Use public transportation or walking when possible\n",
            "- Try local cuisine and visit local markets\n",
            "\u001b[0m"
          ]
        },
        {
          "output_type": "stream",
          "name": "stderr",
          "text": [
            "/usr/local/lib/python3.11/dist-packages/langchain_google_genai/chat_models.py:424: UserWarning: Convert_system_message_to_human will be deprecated!\n",
            "  warnings.warn(\"Convert_system_message_to_human will be deprecated!\")\n"
          ]
        },
        {
          "output_type": "stream",
          "name": "stdout",
          "text": [
            "\u001b[32;1m\u001b[1;3mHi there!  Get ready for an amazing trip to Coimbatore!  I've gathered some information to help you plan:\n",
            "\n",
            "☀️ **Coimbatore Weather:**\n",
            "\n",
            "Based on the latest forecast:\n",
            "\n",
            "* **Current Conditions:**  It's currently 28.1°C (82.6°F) and partly cloudy in Coimbatore. It feels like 30.5°C (86.9°F) due to humidity.  Pack light clothing and stay hydrated!\n",
            "* **3-Day Forecast:** There's a chance of patchy rain over the next few days. Pack an umbrella or raincoat just in case!\n",
            "\n",
            "\n",
            "🏛️ **Coimbatore Tourist Attractions:**\n",
            "\n",
            "Coimbatore offers a delightful mix of experiences! Here are some highlights:\n",
            "\n",
            "* **Race Course Walking Trail:** Perfect for a morning or evening stroll, enjoying the greenery.\n",
            "* **Insect Museum, TNAU:** A unique museum for those interested in the fascinating world of insects.\n",
            "* **Marudamalai Hill Temple:** A significant pilgrimage site with stunning views. (Consider adding this to your itinerary if you're interested in religious sites).\n",
            "* **Other Attractions:**  The information I have also mentions other attractions, but the details are limited.  I recommend doing further research online to find more specific details about these places, including opening times and entrance fees.\n",
            "\n",
            "\n",
            "**Practical Travel Tips for Coimbatore:**\n",
            "\n",
            "* **Transportation:** Research local transportation options like buses or taxis to get around efficiently.\n",
            "* **Food:** Don't miss out on trying the local cuisine! Explore local markets and restaurants for authentic flavors.\n",
            "* **Accommodation:** Book your accommodation in advance, especially if you're traveling during peak season.\n",
            "\n",
            "\n",
            "Have a fantastic trip to Coimbatore! Let me know if you have any other questions. I'm here to help you plan the perfect getaway!\n",
            "\u001b[0m\n",
            "\n",
            "\u001b[1m> Finished chain.\u001b[0m\n",
            "Hi there!  Get ready for an amazing trip to Coimbatore!  I've gathered some information to help you plan:\n",
            "\n",
            "☀️ **Coimbatore Weather:**\n",
            "\n",
            "Based on the latest forecast:\n",
            "\n",
            "* **Current Conditions:**  It's currently 28.1°C (82.6°F) and partly cloudy in Coimbatore. It feels like 30.5°C (86.9°F) due to humidity.  Pack light clothing and stay hydrated!\n",
            "* **3-Day Forecast:** There's a chance of patchy rain over the next few days. Pack an umbrella or raincoat just in case!\n",
            "\n",
            "\n",
            "🏛️ **Coimbatore Tourist Attractions:**\n",
            "\n",
            "Coimbatore offers a delightful mix of experiences! Here are some highlights:\n",
            "\n",
            "* **Race Course Walking Trail:** Perfect for a morning or evening stroll, enjoying the greenery.\n",
            "* **Insect Museum, TNAU:** A unique museum for those interested in the fascinating world of insects.\n",
            "* **Marudamalai Hill Temple:** A significant pilgrimage site with stunning views. (Consider adding this to your itinerary if you're interested in religious sites).\n",
            "* **Other Attractions:**  The information I have also mentions other attractions, but the details are limited.  I recommend doing further research online to find more specific details about these places, including opening times and entrance fees.\n",
            "\n",
            "\n",
            "**Practical Travel Tips for Coimbatore:**\n",
            "\n",
            "* **Transportation:** Research local transportation options like buses or taxis to get around efficiently.\n",
            "* **Food:** Don't miss out on trying the local cuisine! Explore local markets and restaurants for authentic flavors.\n",
            "* **Accommodation:** Book your accommodation in advance, especially if you're traveling during peak season.\n",
            "\n",
            "\n",
            "Have a fantastic trip to Coimbatore! Let me know if you have any other questions. I'm here to help you plan the perfect getaway!\n",
            "\n",
            "\n",
            "============================================================\n",
            "\n",
            "🏖️ Enter a destination you'd like to explore (or 'quit' to exit): quit\n",
            "✈️ Happy travels! Thanks for using the Travel Assistant!\n"
          ]
        }
      ]
    }
  ]
}